{
 "cells": [
  {
   "cell_type": "code",
   "execution_count": 1,
   "id": "fefda9da",
   "metadata": {},
   "outputs": [],
   "source": [
    "%load_ext autoreload\n",
    "%autoreload 2"
   ]
  },
  {
   "cell_type": "code",
   "execution_count": 17,
   "id": "2be193ba",
   "metadata": {},
   "outputs": [],
   "source": [
    "import os\n",
    "import sys\n",
    "parent_dir = os.path.abspath(os.path.join(os.getcwd(), os.pardir, os.pardir))\n",
    "sys.path.append(parent_dir)\n",
    "\n",
    "# Regular Imports\n",
    "import torch\n",
    "device = torch.device(\"cuda\" if torch.cuda.is_available() else \"cpu\")\n",
    "\n",
    "import matplotlib.pyplot as plt\n",
    "\n",
    "# Local Imports\n",
    "import inference.scheduler\n"
   ]
  },
  {
   "cell_type": "code",
   "execution_count": 30,
   "id": "ea576a6f",
   "metadata": {},
   "outputs": [],
   "source": [
    "from abc import ABC, abstractmethod\n",
    "import torch\n",
    "from tqdm import tqdm\n",
    "from inference.distribution import Sampleable\n",
    "\n",
    "class FieldTheory(Sampleable):\n",
    "    def __init__(self, dim: int = 2, lattice_size: int = 256):\n",
    "        self._dim = dim\n",
    "        self._lattice_size = lattice_size\n",
    "\n",
    "    @property\n",
    "    def dim(self) -> int:\n",
    "        return self._dim * self._lattice_size\n",
    "\n",
    "    @abstractmethod\n",
    "    def action(self, field: torch.Tensor) -> torch.Tensor:\n",
    "        \"\"\"\n",
    "        Args:\n",
    "        - field: shape (batch_size, lattice_size, ..., lattice_size), with `dim` spatial dims\n",
    "\n",
    "        Returns:\n",
    "        - action: shape (batch_size,)\n",
    "        \"\"\"\n",
    "        pass\n",
    "\n",
    "    def sample(self,\n",
    "               num_samples: int,\n",
    "               num_steps: int = 1000,\n",
    "               step_size: float = 0.1,\n",
    "               device: torch.device = 'cpu') -> torch.Tensor:\n",
    "        \"\"\"\n",
    "        Samples from exp(-S[φ]) using Metropolis-Hastings.\n",
    "\n",
    "        Returns:\n",
    "        - samples (torch.Tensor): Shape (num_samples, lattice_size, ..., lattice_size)\n",
    "                                  with `dim` spatial dimensions.\n",
    "        \"\"\"\n",
    "        lattice_shape = (self._lattice_size,) * self._dim\n",
    "        shape = (num_samples,) + lattice_shape\n",
    "        field = torch.randn(shape, device=device)\n",
    "\n",
    "        for _ in tqdm(range(num_steps)):\n",
    "            proposal = field + step_size * torch.randn_like(field)\n",
    "\n",
    "            current_action = self.action(field)\n",
    "            proposal_action = self.action(proposal)\n",
    "            delta_S = proposal_action - current_action\n",
    "\n",
    "            accept_prob = torch.exp(-delta_S)\n",
    "            rand = torch.rand(num_samples, device=device)\n",
    "            accept = rand < accept_prob\n",
    "\n",
    "            field[accept] = proposal[accept]\n",
    "\n",
    "        return field\n",
    "\n",
    "\n",
    "class Phi4(FieldTheory):\n",
    "\n",
    "    def __init__(self, beta: float, dim: int = 2, lattice_size: int = 256):\n",
    "        \"\"\"\n",
    "        Initialize the phi^4 field theory with periodic boundary conditions.\n",
    "\n",
    "        Args:\n",
    "        - beta (float): The coupling constant.\n",
    "        - dim (int): The dimension of the lattice.\n",
    "        - num_lattice_points (int): The number of lattice points in each dimension.\n",
    "        \"\"\"\n",
    "        super().__init__(dim, lattice_size)\n",
    "        self._beta = beta\n",
    "    \n",
    "    def action(self, field: torch.Tensor) -> torch.Tensor:\n",
    "        \"\"\"\n",
    "        Computes the action S[ϕ] = ∑_x [½(∂μϕ)^2 + ½m²ϕ² + λ/4 ϕ⁴].\n",
    "\n",
    "        Args:\n",
    "        - field (torch.Tensor): Shape (batch_size, dim, lattice_size)\n",
    "\n",
    "        Returns:\n",
    "        - action (torch.Tensor): Shape (batch_size,)\n",
    "        \"\"\"\n",
    "        batch_size, dim, L = field.shape\n",
    "\n",
    "        # Kinetic term: sum over spatial differences squared\n",
    "        kinetic = torch.zeros(batch_size, device=field.device)\n",
    "\n",
    "        for mu in range(dim):\n",
    "            shifted = torch.roll(field, shifts=-1, dims=2)  # periodic BC\n",
    "            diff = shifted - field\n",
    "            kinetic += 0.5 * (diff ** 2).sum(dim=(1, 2))  # sum over dim and lattice\n",
    "\n",
    "        # Potential term: ½ϕ² + λ/4 ϕ⁴\n",
    "        phi2 = 0.5 * field ** 2\n",
    "        phi4 = self._beta / 4.0 * field ** 4\n",
    "        potential = (phi2 + phi4).sum(dim=(1, 2))  # sum over all lattice sites\n",
    "\n",
    "        return kinetic + potential"
   ]
  },
  {
   "cell_type": "code",
   "execution_count": 38,
   "id": "70e38ab5",
   "metadata": {},
   "outputs": [
    {
     "name": "stderr",
     "output_type": "stream",
     "text": [
      "100%|██████████| 1000/1000 [00:06<00:00, 153.15it/s]\n"
     ]
    },
    {
     "data": {
      "text/plain": [
       "<matplotlib.image.AxesImage at 0x7f8399fe7b80>"
      ]
     },
     "execution_count": 38,
     "metadata": {},
     "output_type": "execute_result"
    },
    {
     "data": {
      "image/png": "[encoded data removed]",
      "text/plain": [
       "<Figure size 432x288 with 1 Axes>"
      ]
     },
     "metadata": {
      "needs_background": "light"
     },
     "output_type": "display_data"
    }
   ],
   "source": [
    "theory = Phi4(beta=10.0, dim=2, lattice_size=64)\n",
    "samples = theory.sample(num_samples = 1, num_steps = 1000, step_size=0.1)\n",
    "plt.imshow(samples[0])"
   ]
  },
  {
   "cell_type": "code",
   "execution_count": null,
   "id": "5416e95c",
   "metadata": {},
   "outputs": [],
   "source": []
  }
 ],
 "metadata": {
  "kernelspec": {
   "display_name": "base",
   "language": "python",
   "name": "python3"
  },
  "language_info": {
   "codemirror_mode": {
    "name": "ipython",
    "version": 3
   },
   "file_extension": ".py",
   "mimetype": "text/x-python",
   "name": "python",
   "nbconvert_exporter": "python",
   "pygments_lexer": "ipython3",
   "version": "3.9.7"
  }
 },
 "nbformat": 4,
 "nbformat_minor": 5
}
