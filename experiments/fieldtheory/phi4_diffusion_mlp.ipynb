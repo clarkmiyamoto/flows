{
 "cells": [
  {
   "cell_type": "code",
   "execution_count": 1,
   "id": "fa9524ff",
   "metadata": {},
   "outputs": [],
   "source": [
    "%load_ext autoreload\n",
    "%autoreload 2"
   ]
  },
  {
   "cell_type": "code",
   "execution_count": 10,
   "id": "f1717ff2",
   "metadata": {},
   "outputs": [],
   "source": [
    "import os\n",
    "import sys\n",
    "import copy\n",
    "parent_dir = os.path.abspath(os.path.join(os.getcwd(), os.pardir, os.pardir))\n",
    "sys.path.append(parent_dir)\n",
    "\n",
    "# Regular Imports \n",
    "import torch\n",
    "device = torch.device(\"cuda\" if torch.cuda.is_available() else \"cpu\")\n",
    "\n",
    "import wandb\n",
    "from tqdm import tqdm\n",
    "import matplotlib.pyplot as plt\n",
    "\n",
    "from inference.distribution import Gaussian"
   ]
  },
  {
   "cell_type": "markdown",
   "id": "c0f1b8b4",
   "metadata": {},
   "source": [
    "# Distributions\n",
    "\n",
    "## Target Distribution $\\phi^4$\n",
    "We load premade samples from a `torch.Tensor` of shape `(batch_size, lattice_points, lattice_points)`"
   ]
  },
  {
   "cell_type": "code",
   "execution_count": 3,
   "id": "8fdf7e75",
   "metadata": {},
   "outputs": [
    {
     "name": "stderr",
     "output_type": "stream",
     "text": [
      "/state/partition1/job-60476561/ipykernel_2941401/4071969165.py:27: FutureWarning: You are using `torch.load` with `weights_only=False` (the current default value), which uses the default pickle module implicitly. It is possible to construct malicious pickle data which will execute arbitrary code during unpickling (See https://github.com/pytorch/pytorch/blob/main/SECURITY.md#untrusted-models for more details). In a future release, the default value for `weights_only` will be flipped to `True`. This limits the functions that could be executed during unpickling. Arbitrary objects will no longer be allowed to be loaded via this mode unless they are explicitly allowlisted by the user via `torch.serialization.add_safe_globals`. We recommend you start setting `weights_only=True` for any use case where you don't have full control of the loaded file. Please open an issue on GitHub for any issues related to this experimental feature.\n",
      "  samples = torch.load('phi4_coupling0p02_kinetic0p3.pt', map_location=torch.device('cpu')) # Shape (batch_size, L, L)\n"
     ]
    }
   ],
   "source": [
    "from inference.distribution import Sampleable\n",
    "class EmpiricalPhi4(Sampleable):\n",
    "\n",
    "    def __init__(self, samples: torch.Tensor, device = None):\n",
    "        self._samples = samples.to(device)\n",
    "        self._lattice_size = int(samples.shape[-1])\n",
    "        \n",
    "    @property\n",
    "    def dim(self):\n",
    "        shape = self._samples.shape\n",
    "        return shape[-1] * shape[-2]\n",
    "\n",
    "    def sample(self, num_samples: int):\n",
    "        '''\n",
    "        Returns\n",
    "            Shape (num_samples, L, L)\n",
    "        '''\n",
    "        batch_size = self._samples.shape[0]\n",
    "        if num_samples > batch_size:\n",
    "            raise ValueError(f\"num_samples ({num_samples}) cannot exceed batch_size ({batch_size})\")\n",
    "\n",
    "        indices = torch.randperm(batch_size)[:num_samples]\n",
    "        return self._samples[indices]\n",
    "    \n",
    "\n",
    "# Load Phi4 Samples\n",
    "samples = torch.load('phi4_coupling0p02_kinetic0p3.pt', map_location=torch.device('cpu')) # Shape (batch_size, L, L)\n",
    "dist_phi4 = EmpiricalPhi4(samples=samples, device=device)"
   ]
  },
  {
   "cell_type": "markdown",
   "id": "5147e704",
   "metadata": {},
   "source": [
    "## Easy to Sample Distribution"
   ]
  },
  {
   "cell_type": "code",
   "execution_count": 9,
   "id": "612ba00c",
   "metadata": {},
   "outputs": [],
   "source": [
    "class GaussianNoise(Sampleable):\n",
    "\n",
    "    def __init__(self, lattice_size, device = None):\n",
    "        self._lattice_size = lattice_size\n",
    "        self.device = device\n",
    "\n",
    "    @property\n",
    "    def dim(self):\n",
    "        return self._lattice_size ** 2\n",
    "    \n",
    "    def sample(self, num_samples: int) -> torch.Tensor:\n",
    "        return torch.rand(num_samples, self._lattice_size, self._lattice_size, device=self.device)"
   ]
  },
  {
   "cell_type": "markdown",
   "id": "3cd8958a",
   "metadata": {},
   "source": [
    "# Machine Learning"
   ]
  },
  {
   "cell_type": "markdown",
   "id": "2bd8de62",
   "metadata": {},
   "source": [
    "## Trainer"
   ]
  },
  {
   "cell_type": "code",
   "execution_count": 31,
   "id": "d8bb6e76",
   "metadata": {},
   "outputs": [
    {
     "name": "stderr",
     "output_type": "stream",
     "text": [
      "<>:16: SyntaxWarning: invalid escape sequence '\\l'\n",
      "<>:16: SyntaxWarning: invalid escape sequence '\\l'\n",
      "/var/folders/wd/zr_by8q96891mxc_506sm9sr0000gn/T/ipykernel_41067/2696383956.py:16: SyntaxWarning: invalid escape sequence '\\l'\n",
      "  '''\n"
     ]
    }
   ],
   "source": [
    "from inference.sde import SDE, EulerMaruyamaSimulator\n",
    "from inference.path import ConditionalProbabilityPath\n",
    "from learning.train import Trainer\n",
    "from learning.mlp import MLPVectorField\n",
    "\n",
    "class LangevinDynamics(SDE):\n",
    "    ''' \n",
    "    Implements\n",
    "\n",
    "    dX_t = (sigma_t^2 / 2) s(x) dt + sigma_t dW_t\n",
    "    \n",
    "    where s(x) = nabla_x log p(x)\n",
    "    '''\n",
    "    \n",
    "    def __init__(self, score, noise_scheduler: torch.Tensor):\n",
    "        '''\n",
    "        The score is of the form `\\nabla_x \\log p(x)`\n",
    "\n",
    "        The limiting distribution of LangevinDynamics is `p(x)`\n",
    "\n",
    "        Args:\n",
    "            score (func): Inputs tensor of shape (batch_size, dim), outputs tensor of shape (batch_size, dim).\n",
    "                Can be `distribution.Density.score`.\n",
    "            noise_scheduler: Inputs torch tensor (batch_size, 1), outputs tensor of shape (batch_size, 1)\n",
    "        '''\n",
    "        self.score = score\n",
    "        self.noise_scheduler = noise_scheduler\n",
    "\n",
    "    def drift_coefficient(self, xt: torch.Tensor, t: torch.Tensor):\n",
    "        '''\n",
    "        Args:\n",
    "            xt: (batch_size, L, L)\n",
    "            t: (batch_size, 1, 1)\n",
    "        Returns:\n",
    "            drift: (batch_size, L, L)\n",
    "        '''\n",
    "        _, dim, dim = xt.shape\n",
    "        # noise = self.noise_scheduler(t).repeat(1, dim, dim)\n",
    "\n",
    "        t = t.repeat(xt.shape[0], 1, 1)\n",
    "        return self.score(xt, t)\n",
    "    \n",
    "    def diffusion_coefficient(self, xt: torch.Tensor, t: torch.Tensor):\n",
    "        _, dim, dim = xt.shape\n",
    "        noise = self.noise_scheduler(t).repeat(1, dim)\n",
    "\n",
    "        return noise\n",
    "\n",
    "class ConditionalFlowMatchingTrainer(Trainer):\n",
    "    def __init__(self, \n",
    "                 path: ConditionalProbabilityPath, \n",
    "                 model: MLPVectorField,\n",
    "                 wandb = None,\n",
    "                 **kwargs):\n",
    "        super().__init__(model, **kwargs)\n",
    "        self.path = path\n",
    "\n",
    "    def get_train_loss(self, batch_size: int) -> torch.Tensor:\n",
    "        z = self.path.p_data.sample(batch_size)\n",
    "        t = torch.rand(batch_size, 1, 1, device=device) # (batch_size, 1, 1)\n",
    "        x = self.path.sample_conditional_path(z,t) # (batch_size, lattice_size, lattice_size)\n",
    "\n",
    "        u_model = self.model(x,t)\n",
    "        u_ref = self.path.conditional_vector_field(x,z,t)\n",
    "\n",
    "        return torch.norm(u_model - u_ref) / batch_size\n",
    "    \n",
    "    def inference(self, \n",
    "                  num_samples: int,\n",
    "                  ts: torch.Tensor,\n",
    "                  use_tqdm: bool = False\n",
    "                  ):\n",
    "        sde = LangevinDynamics(score=self.model, noise_scheduler=lambda t: torch.ones_like(t))\n",
    "        simulator= EulerMaruyamaSimulator(sde)\n",
    "        \n",
    "        x_init = self.path.p_data.sample(num_samples)\n",
    "        x_final = simulator.simulate(x=x_init, ts=ts, use_tqdm=use_tqdm)\n",
    "\n",
    "        return x_final"
   ]
  },
  {
   "cell_type": "markdown",
   "id": "842aa7bd",
   "metadata": {},
   "source": [
    "## Training"
   ]
  },
  {
   "cell_type": "code",
   "execution_count": 32,
   "id": "5367526e",
   "metadata": {},
   "outputs": [],
   "source": [
    "from learning.mlp import MLPVectorField\n",
    "from inference.path import LinearConditionalProbabilityPath\n",
    "\n",
    "# Construct conditional probability path\n",
    "path = LinearConditionalProbabilityPath(\n",
    "    p_simple = GaussianNoise(lattice_size=dist_phi4._lattice_size, device=device),\n",
    "    p_data = dist_phi4\n",
    ").to(device)"
   ]
  },
  {
   "cell_type": "code",
   "execution_count": 35,
   "id": "33ec2201",
   "metadata": {},
   "outputs": [
    {
     "data": {
      "text/html": [
       "Finishing previous runs because reinit is set to 'default'."
      ],
      "text/plain": [
       "<IPython.core.display.HTML object>"
      ]
     },
     "metadata": {},
     "output_type": "display_data"
    },
    {
     "data": {
      "text/html": [],
      "text/plain": [
       "<IPython.core.display.HTML object>"
      ]
     },
     "metadata": {},
     "output_type": "display_data"
    },
    {
     "data": {
      "text/html": [
       "<br>    <style><br>        .wandb-row {<br>            display: flex;<br>            flex-direction: row;<br>            flex-wrap: wrap;<br>            justify-content: flex-start;<br>            width: 100%;<br>        }<br>        .wandb-col {<br>            display: flex;<br>            flex-direction: column;<br>            flex-basis: 100%;<br>            flex: 1;<br>            padding: 10px;<br>        }<br>    </style><br><div class=\"wandb-row\"><div class=\"wandb-col\"><h3>Run history:</h3><br/><table class=\"wandb\"><tr><td>epoch</td><td>▁▁▁▁▁▂▂▂▂▂▃▃▃▃▃▄▄▄▄▄▅▅▅▅▅▆▆▆▆▆▆▇▇▇▇▇████</td></tr><tr><td>grad_norm</td><td>▁▁▁▁▁▁▁▁▁▁▂▃▄▄▅▇▇▇█▇▄▄▃▃▃▂▂▂▅▂▂▁▂▃▂▁▁▆▃▆</td></tr><tr><td>train/loss</td><td>████████▇▇▇▅▅▅▄▂▂▂▂▂▂▁▁▁▁▁▁▁▁▁▁▁▁▁▁▁▁▁▁▁</td></tr></table><br/></div><div class=\"wandb-col\"><h3>Run summary:</h3><br/><table class=\"wandb\"><tr><td>epoch</td><td>850</td></tr><tr><td>grad_norm</td><td>0.0424</td></tr><tr><td>train/loss</td><td>0.20693</td></tr></table><br/></div></div>"
      ],
      "text/plain": [
       "<IPython.core.display.HTML object>"
      ]
     },
     "metadata": {},
     "output_type": "display_data"
    },
    {
     "data": {
      "text/html": [
       " View run <strong style=\"color:#cdcd00\">grateful-plasma-12</strong> at: <a href='https://wandb.ai/clarkmiyamoto-new-york-university/phi4/runs/61arri2p' target=\"_blank\">https://wandb.ai/clarkmiyamoto-new-york-university/phi4/runs/61arri2p</a><br> View project at: <a href='https://wandb.ai/clarkmiyamoto-new-york-university/phi4' target=\"_blank\">https://wandb.ai/clarkmiyamoto-new-york-university/phi4</a><br>Synced 2 W&B file(s), 0 media file(s), 0 artifact file(s) and 0 other file(s)"
      ],
      "text/plain": [
       "<IPython.core.display.HTML object>"
      ]
     },
     "metadata": {},
     "output_type": "display_data"
    },
    {
     "data": {
      "text/html": [
       "Find logs at: <code>./wandb/run-20250513_170546-61arri2p/logs</code>"
      ],
      "text/plain": [
       "<IPython.core.display.HTML object>"
      ]
     },
     "metadata": {},
     "output_type": "display_data"
    },
    {
     "data": {
      "text/html": [
       "Tracking run with wandb version 0.19.11"
      ],
      "text/plain": [
       "<IPython.core.display.HTML object>"
      ]
     },
     "metadata": {},
     "output_type": "display_data"
    },
    {
     "data": {
      "text/html": [
       "Run data is saved locally in <code>/Users/clarkmiyamoto/nyu/flows/experiments/fieldtheory/wandb/run-20250513_174538-2half0lo</code>"
      ],
      "text/plain": [
       "<IPython.core.display.HTML object>"
      ]
     },
     "metadata": {},
     "output_type": "display_data"
    },
    {
     "data": {
      "text/html": [
       "Syncing run <strong><a href='https://wandb.ai/clarkmiyamoto-new-york-university/phi4/runs/2half0lo' target=\"_blank\">snowy-blaze-14</a></strong> to <a href='https://wandb.ai/clarkmiyamoto-new-york-university/phi4' target=\"_blank\">Weights & Biases</a> (<a href='https://wandb.me/developer-guide' target=\"_blank\">docs</a>)<br>"
      ],
      "text/plain": [
       "<IPython.core.display.HTML object>"
      ]
     },
     "metadata": {},
     "output_type": "display_data"
    },
    {
     "data": {
      "text/html": [
       " View project at <a href='https://wandb.ai/clarkmiyamoto-new-york-university/phi4' target=\"_blank\">https://wandb.ai/clarkmiyamoto-new-york-university/phi4</a>"
      ],
      "text/plain": [
       "<IPython.core.display.HTML object>"
      ]
     },
     "metadata": {},
     "output_type": "display_data"
    },
    {
     "data": {
      "text/html": [
       " View run at <a href='https://wandb.ai/clarkmiyamoto-new-york-university/phi4/runs/2half0lo' target=\"_blank\">https://wandb.ai/clarkmiyamoto-new-york-university/phi4/runs/2half0lo</a>"
      ],
      "text/plain": [
       "<IPython.core.display.HTML object>"
      ]
     },
     "metadata": {},
     "output_type": "display_data"
    },
    {
     "name": "stderr",
     "output_type": "stream",
     "text": [
      "Epoch 14, loss: 0.29603737592697144: : 15it [00:03,  4.89it/s]\n"
     ]
    },
    {
     "ename": "KeyboardInterrupt",
     "evalue": "",
     "output_type": "error",
     "traceback": [
      "\u001b[31m---------------------------------------------------------------------------\u001b[39m",
      "\u001b[31mKeyboardInterrupt\u001b[39m                         Traceback (most recent call last)",
      "\u001b[36mCell\u001b[39m\u001b[36m \u001b[39m\u001b[32mIn[35]\u001b[39m\u001b[32m, line 27\u001b[39m\n\u001b[32m     25\u001b[39m \u001b[38;5;66;03m# Construct trainer\u001b[39;00m\n\u001b[32m     26\u001b[39m trainer = ConditionalFlowMatchingTrainer(path, linear_flow_model, wandb_record=\u001b[38;5;28;01mTrue\u001b[39;00m)\n\u001b[32m---> \u001b[39m\u001b[32m27\u001b[39m losses = trainer.train(num_epochs=\u001b[32m10000\u001b[39m, \n\u001b[32m     28\u001b[39m                        device=device, \n\u001b[32m     29\u001b[39m                        setup_optimizer=config[\u001b[33m'\u001b[39m\u001b[33msetup_optimizer\u001b[39m\u001b[33m'\u001b[39m], \n\u001b[32m     30\u001b[39m                        setup_loss=config[\u001b[33m'\u001b[39m\u001b[33msetup_loss\u001b[39m\u001b[33m'\u001b[39m])\n",
      "\u001b[36mFile \u001b[39m\u001b[32m<string>:11\u001b[39m, in \u001b[36mtrain\u001b[39m\u001b[34m(self, num_epochs, device, setup_optimizer, setup_loss)\u001b[39m\n",
      "\u001b[36mCell\u001b[39m\u001b[36m \u001b[39m\u001b[32mIn[31]\u001b[39m\u001b[32m, line 61\u001b[39m, in \u001b[36mConditionalFlowMatchingTrainer.get_train_loss\u001b[39m\u001b[34m(self, batch_size)\u001b[39m\n\u001b[32m     59\u001b[39m z = \u001b[38;5;28mself\u001b[39m.path.p_data.sample(batch_size)\n\u001b[32m     60\u001b[39m t = torch.rand(batch_size, \u001b[32m1\u001b[39m, \u001b[32m1\u001b[39m, device=device) \u001b[38;5;66;03m# (batch_size, 1, 1)\u001b[39;00m\n\u001b[32m---> \u001b[39m\u001b[32m61\u001b[39m x = \u001b[38;5;28mself\u001b[39m.path.sample_conditional_path(z,t) \u001b[38;5;66;03m# (batch_size, lattice_size, lattice_size)\u001b[39;00m\n\u001b[32m     63\u001b[39m u_model = \u001b[38;5;28mself\u001b[39m.model(x,t)\n\u001b[32m     64\u001b[39m u_ref = \u001b[38;5;28mself\u001b[39m.path.conditional_vector_field(x,z,t)\n",
      "\u001b[36mFile \u001b[39m\u001b[32m~/nyu/flows/inference/path.py:104\u001b[39m, in \u001b[36mLinearConditionalProbabilityPath.sample_conditional_path\u001b[39m\u001b[34m(self, z, t)\u001b[39m\n\u001b[32m     94\u001b[39m \u001b[38;5;250m\u001b[39m\u001b[33;03m\"\"\"\u001b[39;00m\n\u001b[32m     95\u001b[39m \u001b[33;03mSamples the random variable X_t = (1-t) X_0 + t z\u001b[39;00m\n\u001b[32m     96\u001b[39m \u001b[33;03mArgs:\u001b[39;00m\n\u001b[32m   (...)\u001b[39m\u001b[32m    100\u001b[39m \u001b[33;03m    - x: samples from p_t(x|z), (num_samples, dim)\u001b[39;00m\n\u001b[32m    101\u001b[39m \u001b[33;03m\"\"\"\u001b[39;00m\n\u001b[32m    102\u001b[39m num_samples, _, _ = z.shape\n\u001b[32m--> \u001b[39m\u001b[32m104\u001b[39m x0 = \u001b[38;5;28mself\u001b[39m.p_simple.sample(num_samples)\n\u001b[32m    106\u001b[39m \u001b[38;5;28;01mreturn\u001b[39;00m (\u001b[32m1\u001b[39m-t) * x0 + t * z\n",
      "\u001b[36mCell\u001b[39m\u001b[36m \u001b[39m\u001b[32mIn[4]\u001b[39m\u001b[32m, line 12\u001b[39m, in \u001b[36mGaussianNoise.sample\u001b[39m\u001b[34m(self, num_samples)\u001b[39m\n\u001b[32m     11\u001b[39m \u001b[38;5;28;01mdef\u001b[39;00m\u001b[38;5;250m \u001b[39m\u001b[34msample\u001b[39m(\u001b[38;5;28mself\u001b[39m, num_samples: \u001b[38;5;28mint\u001b[39m) -> torch.Tensor:\n\u001b[32m---> \u001b[39m\u001b[32m12\u001b[39m     \u001b[38;5;28;01mreturn\u001b[39;00m torch.rand(num_samples, \u001b[38;5;28mself\u001b[39m._lattice_size, \u001b[38;5;28mself\u001b[39m._lattice_size, device=\u001b[38;5;28mself\u001b[39m.device)\n",
      "\u001b[31mKeyboardInterrupt\u001b[39m: "
     ]
    },
    {
     "name": "stderr",
     "output_type": "stream",
     "text": [
      "\u001b[34m\u001b[1mwandb\u001b[0m: \u001b[33mWARNING\u001b[0m Fatal error while uploading data. Some run data will not be synced, but it will still be written to disk. Use `wandb sync` at the end of the run to try uploading.\n"
     ]
    }
   ],
   "source": [
    "wandb.init(\n",
    "    project=\"phi4\",\n",
    "    config=dict(\n",
    "        model=dict(\n",
    "            dim=dist_phi4.dim,\n",
    "            hiddens=[256,256,256,256,256],\n",
    "            time_embed_dim=64\n",
    "        ),\n",
    "        setup_optimizer=dict(\n",
    "            lr=1e-5,\n",
    "            weight_decay=1e-4\n",
    "            ),\n",
    "        setup_loss=dict(\n",
    "            batch_size=8000\n",
    "            )\n",
    "    )\n",
    ")\n",
    "config = wandb.config\n",
    "\n",
    "# Construct learnable vector field\n",
    "linear_flow_model = MLPVectorField(dim=config.model['dim'], \n",
    "                                   hiddens=config.model['hiddens'], \n",
    "                                   time_embed_dim=config.model['time_embed_dim'])\n",
    "\n",
    "# Construct trainer\n",
    "trainer = ConditionalFlowMatchingTrainer(path, linear_flow_model, wandb_record=True)\n",
    "losses = trainer.train(num_epochs=10000, \n",
    "                       device=device, \n",
    "                       setup_optimizer=config['setup_optimizer'], \n",
    "                       setup_loss=config['setup_loss'])"
   ]
  },
  {
   "cell_type": "code",
   "execution_count": 13,
   "id": "d7a51d4a-2d7a-4159-9495-3485c96db81a",
   "metadata": {},
   "outputs": [
    {
     "name": "stderr",
     "output_type": "stream",
     "text": [
      "Epoch 939, loss: 0.20652364194393158: : 934it [00:06, 139.61it/s]Exception ignored in: <generator object tqdm.__iter__ at 0x14efe89bd900>\n",
      "Traceback (most recent call last):\n",
      "  File \"/ext3/miniforge3/lib/python3.12/site-packages/tqdm/std.py\", line 1196, in __iter__\n",
      "    self.close()\n",
      "  File \"/ext3/miniforge3/lib/python3.12/site-packages/tqdm/std.py\", line 1275, in close\n",
      "    self._decr_instances(self)\n",
      "  File \"/ext3/miniforge3/lib/python3.12/site-packages/tqdm/std.py\", line 696, in _decr_instances\n",
      "    with cls._lock:\n",
      "         ^^^^^^^^^\n",
      "KeyboardInterrupt: \n"
     ]
    },
    {
     "ename": "KeyboardInterrupt",
     "evalue": "",
     "output_type": "error",
     "traceback": [
      "\u001b[0;31m---------------------------------------------------------------------------\u001b[0m",
      "\u001b[0;31mKeyboardInterrupt\u001b[0m                         Traceback (most recent call last)",
      "Cell \u001b[0;32mIn[13], line 1\u001b[0m\n\u001b[0;32m----> 1\u001b[0m losses \u001b[38;5;241m=\u001b[39m \u001b[43mtrainer\u001b[49m\u001b[38;5;241;43m.\u001b[39;49m\u001b[43mtrain\u001b[49m\u001b[43m(\u001b[49m\u001b[43mnum_epochs\u001b[49m\u001b[38;5;241;43m=\u001b[39;49m\u001b[38;5;241;43m10000\u001b[39;49m\u001b[43m,\u001b[49m\u001b[43m \u001b[49m\n\u001b[1;32m      2\u001b[0m \u001b[43m                       \u001b[49m\u001b[43mdevice\u001b[49m\u001b[38;5;241;43m=\u001b[39;49m\u001b[43mdevice\u001b[49m\u001b[43m,\u001b[49m\u001b[43m \u001b[49m\n\u001b[1;32m      3\u001b[0m \u001b[43m                       \u001b[49m\u001b[43mlr\u001b[49m\u001b[38;5;241;43m=\u001b[39;49m\u001b[38;5;241;43m1e-6\u001b[39;49m\u001b[43m,\u001b[49m\u001b[43m \u001b[49m\n\u001b[1;32m      4\u001b[0m \u001b[43m                       \u001b[49m\u001b[43msetup_optimizer\u001b[49m\u001b[38;5;241;43m=\u001b[39;49m\u001b[43msetup_optimizer\u001b[49m\u001b[43m,\u001b[49m\u001b[43m \u001b[49m\n\u001b[1;32m      5\u001b[0m \u001b[43m                       \u001b[49m\u001b[43msetup_loss\u001b[49m\u001b[38;5;241;43m=\u001b[39;49m\u001b[43msetup_loss\u001b[49m\u001b[43m)\u001b[49m\n",
      "File \u001b[0;32m/scratch/cm6627/flows/learning/train.py:40\u001b[0m, in \u001b[0;36mTrainer.train\u001b[0;34m(self, num_epochs, device, lr, setup_optimizer, setup_loss)\u001b[0m\n\u001b[1;32m     38\u001b[0m opt\u001b[38;5;241m.\u001b[39mzero_grad()\n\u001b[1;32m     39\u001b[0m loss \u001b[38;5;241m=\u001b[39m \u001b[38;5;28mself\u001b[39m\u001b[38;5;241m.\u001b[39mget_train_loss(\u001b[38;5;241m*\u001b[39m\u001b[38;5;241m*\u001b[39msetup_loss)\n\u001b[0;32m---> 40\u001b[0m \u001b[43mloss\u001b[49m\u001b[38;5;241;43m.\u001b[39;49m\u001b[43mbackward\u001b[49m\u001b[43m(\u001b[49m\u001b[43m)\u001b[49m\n\u001b[1;32m     41\u001b[0m opt\u001b[38;5;241m.\u001b[39mstep()\n\u001b[1;32m     43\u001b[0m \u001b[38;5;66;03m# Log metrics\u001b[39;00m\n",
      "File \u001b[0;32m/ext3/miniforge3/lib/python3.12/site-packages/torch/_tensor.py:581\u001b[0m, in \u001b[0;36mTensor.backward\u001b[0;34m(self, gradient, retain_graph, create_graph, inputs)\u001b[0m\n\u001b[1;32m    571\u001b[0m \u001b[38;5;28;01mif\u001b[39;00m has_torch_function_unary(\u001b[38;5;28mself\u001b[39m):\n\u001b[1;32m    572\u001b[0m     \u001b[38;5;28;01mreturn\u001b[39;00m handle_torch_function(\n\u001b[1;32m    573\u001b[0m         Tensor\u001b[38;5;241m.\u001b[39mbackward,\n\u001b[1;32m    574\u001b[0m         (\u001b[38;5;28mself\u001b[39m,),\n\u001b[0;32m   (...)\u001b[0m\n\u001b[1;32m    579\u001b[0m         inputs\u001b[38;5;241m=\u001b[39minputs,\n\u001b[1;32m    580\u001b[0m     )\n\u001b[0;32m--> 581\u001b[0m \u001b[43mtorch\u001b[49m\u001b[38;5;241;43m.\u001b[39;49m\u001b[43mautograd\u001b[49m\u001b[38;5;241;43m.\u001b[39;49m\u001b[43mbackward\u001b[49m\u001b[43m(\u001b[49m\n\u001b[1;32m    582\u001b[0m \u001b[43m    \u001b[49m\u001b[38;5;28;43mself\u001b[39;49m\u001b[43m,\u001b[49m\u001b[43m \u001b[49m\u001b[43mgradient\u001b[49m\u001b[43m,\u001b[49m\u001b[43m \u001b[49m\u001b[43mretain_graph\u001b[49m\u001b[43m,\u001b[49m\u001b[43m \u001b[49m\u001b[43mcreate_graph\u001b[49m\u001b[43m,\u001b[49m\u001b[43m \u001b[49m\u001b[43minputs\u001b[49m\u001b[38;5;241;43m=\u001b[39;49m\u001b[43minputs\u001b[49m\n\u001b[1;32m    583\u001b[0m \u001b[43m\u001b[49m\u001b[43m)\u001b[49m\n",
      "File \u001b[0;32m/ext3/miniforge3/lib/python3.12/site-packages/torch/autograd/__init__.py:347\u001b[0m, in \u001b[0;36mbackward\u001b[0;34m(tensors, grad_tensors, retain_graph, create_graph, grad_variables, inputs)\u001b[0m\n\u001b[1;32m    342\u001b[0m     retain_graph \u001b[38;5;241m=\u001b[39m create_graph\n\u001b[1;32m    344\u001b[0m \u001b[38;5;66;03m# The reason we repeat the same comment below is that\u001b[39;00m\n\u001b[1;32m    345\u001b[0m \u001b[38;5;66;03m# some Python versions print out the first line of a multi-line function\u001b[39;00m\n\u001b[1;32m    346\u001b[0m \u001b[38;5;66;03m# calls in the traceback and some print out the last line\u001b[39;00m\n\u001b[0;32m--> 347\u001b[0m \u001b[43m_engine_run_backward\u001b[49m\u001b[43m(\u001b[49m\n\u001b[1;32m    348\u001b[0m \u001b[43m    \u001b[49m\u001b[43mtensors\u001b[49m\u001b[43m,\u001b[49m\n\u001b[1;32m    349\u001b[0m \u001b[43m    \u001b[49m\u001b[43mgrad_tensors_\u001b[49m\u001b[43m,\u001b[49m\n\u001b[1;32m    350\u001b[0m \u001b[43m    \u001b[49m\u001b[43mretain_graph\u001b[49m\u001b[43m,\u001b[49m\n\u001b[1;32m    351\u001b[0m \u001b[43m    \u001b[49m\u001b[43mcreate_graph\u001b[49m\u001b[43m,\u001b[49m\n\u001b[1;32m    352\u001b[0m \u001b[43m    \u001b[49m\u001b[43minputs\u001b[49m\u001b[43m,\u001b[49m\n\u001b[1;32m    353\u001b[0m \u001b[43m    \u001b[49m\u001b[43mallow_unreachable\u001b[49m\u001b[38;5;241;43m=\u001b[39;49m\u001b[38;5;28;43;01mTrue\u001b[39;49;00m\u001b[43m,\u001b[49m\n\u001b[1;32m    354\u001b[0m \u001b[43m    \u001b[49m\u001b[43maccumulate_grad\u001b[49m\u001b[38;5;241;43m=\u001b[39;49m\u001b[38;5;28;43;01mTrue\u001b[39;49;00m\u001b[43m,\u001b[49m\n\u001b[1;32m    355\u001b[0m \u001b[43m\u001b[49m\u001b[43m)\u001b[49m\n",
      "File \u001b[0;32m/ext3/miniforge3/lib/python3.12/site-packages/torch/autograd/graph.py:825\u001b[0m, in \u001b[0;36m_engine_run_backward\u001b[0;34m(t_outputs, *args, **kwargs)\u001b[0m\n\u001b[1;32m    823\u001b[0m     unregister_hooks \u001b[38;5;241m=\u001b[39m _register_logging_hooks_on_whole_graph(t_outputs)\n\u001b[1;32m    824\u001b[0m \u001b[38;5;28;01mtry\u001b[39;00m:\n\u001b[0;32m--> 825\u001b[0m     \u001b[38;5;28;01mreturn\u001b[39;00m \u001b[43mVariable\u001b[49m\u001b[38;5;241;43m.\u001b[39;49m\u001b[43m_execution_engine\u001b[49m\u001b[38;5;241;43m.\u001b[39;49m\u001b[43mrun_backward\u001b[49m\u001b[43m(\u001b[49m\u001b[43m  \u001b[49m\u001b[38;5;66;43;03m# Calls into the C++ engine to run the backward pass\u001b[39;49;00m\n\u001b[1;32m    826\u001b[0m \u001b[43m        \u001b[49m\u001b[43mt_outputs\u001b[49m\u001b[43m,\u001b[49m\u001b[43m \u001b[49m\u001b[38;5;241;43m*\u001b[39;49m\u001b[43margs\u001b[49m\u001b[43m,\u001b[49m\u001b[43m \u001b[49m\u001b[38;5;241;43m*\u001b[39;49m\u001b[38;5;241;43m*\u001b[39;49m\u001b[43mkwargs\u001b[49m\n\u001b[1;32m    827\u001b[0m \u001b[43m    \u001b[49m\u001b[43m)\u001b[49m  \u001b[38;5;66;03m# Calls into the C++ engine to run the backward pass\u001b[39;00m\n\u001b[1;32m    828\u001b[0m \u001b[38;5;28;01mfinally\u001b[39;00m:\n\u001b[1;32m    829\u001b[0m     \u001b[38;5;28;01mif\u001b[39;00m attach_logging_hooks:\n",
      "\u001b[0;31mKeyboardInterrupt\u001b[0m: "
     ]
    }
   ],
   "source": [
    "losses = trainer.train(num_epochs=10000, \n",
    "                       device=device, \n",
    "                       lr=1e-6, \n",
    "                       setup_optimizer=setup_optimizer, \n",
    "                       setup_loss=setup_loss)"
   ]
  },
  {
   "cell_type": "markdown",
   "id": "8c6cab0b",
   "metadata": {},
   "source": [
    "# Results\n",
    "## Visual"
   ]
  },
  {
   "cell_type": "code",
   "execution_count": 1,
   "id": "a019e28c",
   "metadata": {},
   "outputs": [
    {
     "ename": "NameError",
     "evalue": "name 'torch' is not defined",
     "output_type": "error",
     "traceback": [
      "\u001b[31m---------------------------------------------------------------------------\u001b[39m",
      "\u001b[31mNameError\u001b[39m                                 Traceback (most recent call last)",
      "\u001b[36mCell\u001b[39m\u001b[36m \u001b[39m\u001b[32mIn[1]\u001b[39m\u001b[32m, line 3\u001b[39m\n\u001b[32m      1\u001b[39m num_samples = \u001b[32m1000\u001b[39m\n\u001b[32m----> \u001b[39m\u001b[32m3\u001b[39m ts = torch.linspace(\u001b[32m0\u001b[39m, \u001b[32m1\u001b[39m, \u001b[32m1000\u001b[39m).unsqueeze(-\u001b[32m1\u001b[39m).unsqueeze(-\u001b[32m1\u001b[39m).to(device)\n\u001b[32m      4\u001b[39m samples = trainer.inference(num_samples=num_samples, ts=ts, use_tqdm=\u001b[38;5;28;01mTrue\u001b[39;00m)\n\u001b[32m      6\u001b[39m \u001b[38;5;66;03m# Plot some samples\u001b[39;00m\n",
      "\u001b[31mNameError\u001b[39m: name 'torch' is not defined"
     ]
    }
   ],
   "source": [
    "num_samples = 1000\n",
    "\n",
    "ts = torch.linspace(0, 1, 1000).unsqueeze(-1).unsqueeze(-1).to(device)\n",
    "samples = trainer.inference(num_samples=num_samples, ts=ts, use_tqdm=True)\n",
    "\n",
    "# Plot some samples\n",
    "fig, axes = plt.subplots(2, 5, figsize=(15, 6))\n",
    "for i in range(5):\n",
    "    axes[0, i].imshow(samples[i].cpu().detach())\n",
    "    axes[0, i].set_title(f'Sample {i}')\n",
    "    axes[0, i].axis('off')\n",
    "    \n",
    "    # Plot corresponding target samples for comparison\n",
    "    target_sample = dist_phi4.sample(1)[0]\n",
    "    axes[1, i].imshow(target_sample.cpu().detach())\n",
    "    axes[1, i].set_title(f'Target {i}')\n",
    "    axes[1, i].axis('off')\n",
    "\n",
    "# Add row titles\n",
    "fig.text(0.5, 0.92, 'Generative Model', ha='center', va='center', fontsize=14, weight='bold')\n",
    "fig.text(0.5, 0.46, 'Target Distribution', ha='center', va='center', fontsize=14, weight='bold')\n",
    "\n",
    "plt.tight_layout(rect=[0, 0, 1, 0.95])  # leave room at the top for the row titles\n",
    "plt.show()"
   ]
  },
  {
   "cell_type": "markdown",
   "id": "43788187",
   "metadata": {},
   "source": [
    "## Statistical Tests"
   ]
  },
  {
   "cell_type": "code",
   "execution_count": 11,
   "id": "6bf2e54b",
   "metadata": {},
   "outputs": [
    {
     "name": "stdout",
     "output_type": "stream",
     "text": [
      "+-----------+------------------+---------------------+---------------+\n",
      "| Statistic | Generative Model | Target Distribution | In Tolerance? |\n",
      "+-----------+------------------+---------------------+---------------+\n",
      "|     M     | 4.3934 ± 0.0025  |   2.1946 ± 0.0005   |     False     |\n",
      "|    |M|    | 4.3934 ± 0.0025  |   2.1946 ± 0.0005   |     False     |\n",
      "|   chi²    | 6.3028 ± 22.3089 |   1.5274 ± 2.4534   |     True      |\n",
      "+-----------+------------------+---------------------+---------------+\n"
     ]
    },
    {
     "data": {
      "image/png": "[encoded data removed]",
      "text/plain": [
       "<Figure size 600x600 with 1 Axes>"
      ]
     },
     "metadata": {},
     "output_type": "display_data"
    }
   ],
   "source": [
    "from fieldstatistics import compare_statistics\n",
    "\n",
    "num_samples = 5000\n",
    "compare_statistics(samples, dist_phi4.sample(num_samples))"
   ]
  },
  {
   "cell_type": "code",
   "execution_count": null,
   "id": "22e2f6bb",
   "metadata": {},
   "outputs": [],
   "source": []
  },
  {
   "cell_type": "code",
   "execution_count": null,
   "id": "bea1a3d8-d842-42a5-85eb-a495ee39ca90",
   "metadata": {},
   "outputs": [],
   "source": []
  },
  {
   "cell_type": "code",
   "execution_count": null,
   "id": "9a7d31c9-c71c-4c25-b24f-5ba9dd48bbd2",
   "metadata": {},
   "outputs": [],
   "source": []
  }
 ],
 "metadata": {
  "kernelspec": {
   "display_name": "torch",
   "language": "python",
   "name": "python3"
  },
  "language_info": {
   "codemirror_mode": {
    "name": "ipython",
    "version": 3
   },
   "file_extension": ".py",
   "mimetype": "text/x-python",
   "name": "python",
   "nbconvert_exporter": "python",
   "pygments_lexer": "ipython3",
   "version": "3.13.2"
  }
 },
 "nbformat": 4,
 "nbformat_minor": 5
}
