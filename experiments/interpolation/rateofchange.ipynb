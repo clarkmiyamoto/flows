{
 "cells": [
  {
   "cell_type": "code",
   "execution_count": 1,
   "id": "223e5644",
   "metadata": {},
   "outputs": [],
   "source": [
    "%load_ext autoreload\n",
    "%autoreload 2"
   ]
  },
  {
   "cell_type": "code",
   "execution_count": 2,
   "id": "9f6ae918",
   "metadata": {},
   "outputs": [],
   "source": [
    "import os\n",
    "import sys\n",
    "parent_dir = os.path.abspath(os.path.join(os.getcwd(), os.pardir, os.pardir))\n",
    "sys.path.append(parent_dir)\n",
    "\n",
    "# Regular Imports\n",
    "import torch\n",
    "device = torch.device(\"cuda\" if torch.cuda.is_available() else \"cpu\")\n",
    "\n",
    "import numpy as np\n",
    "\n",
    "import matplotlib.pyplot as plt\n",
    "from tqdm import tqdm\n",
    "\n",
    "import inference.scheduler\n",
    "from inference.distribution import Gaussian, GaussianMixture, Rosenbrock2D, InterpolatedDensity\n",
    "from inference.sde import EulerMaruyamaSimulator, LangevinDynamics\n",
    "import utils.vis2d.visualization"
   ]
  },
  {
   "cell_type": "code",
   "execution_count": 3,
   "id": "98164284",
   "metadata": {},
   "outputs": [],
   "source": [
    "class LinearInterpolatedDensity(InterpolatedDensity):\n",
    "\n",
    "    def __init__(self, density0, density1):\n",
    "        super().__init__(density0, density1)\n",
    "    \n",
    "    def interpolate(self, log_density0: torch.Tensor, log_density1: torch.Tensor, alpha: float) -> torch.Tensor:\n",
    "        \"\"\"\n",
    "        Constructs interpolation between density0 and density1\n",
    "        Args:\n",
    "            - log_density0 (torch.Tensor): Log density of density0 evaluated at x\n",
    "            - log_density1 (torch.Tensor): Log density of density1 evaluated at x\n",
    "            - alpha (float): Interpolation parameter (0 <= alpha <= 1)\n",
    "        \"\"\"\n",
    "        return log_density0 + alpha * (log_density1 - log_density0)"
   ]
  },
  {
   "cell_type": "markdown",
   "id": "0c38895c",
   "metadata": {},
   "source": [
    "# Write Up\n",
    "Write up of this expeirment is at https://docs.google.com/presentation/d/11G0fuKPtKkklu-rn0dTnIIRiQ9SCsBF4By0rgdhf2YY/edit?usp=sharing"
   ]
  },
  {
   "cell_type": "markdown",
   "id": "86dc55c7",
   "metadata": {},
   "source": [
    "# Unit 1: Various Measures of Rate of Change of Score\n",
    "# Experiment 1: Rate of Change of Fisher Divergence\n",
    "\n",
    "Consider an interpolated density $p_t = F[p_0, p_1, t]$ which interpolates between an initial (easy) density $p_0$ and a final (hard) density $p_1$.\n",
    "\n",
    "We can figure out how fast $p_t$ is moving away from $p_0$ by computing the rate of change of the Fisher divergence\n",
    "\n",
    "$$\n",
    "\\frac{d}{dt} D_F(p_0 || p_t)  = 2~\\mathbb E_{p_0} \\left[s_t \\cdot \\frac{ds_t}{dt} + \\nabla_x \\cdot \\frac{ds_t}{dt} \\right]\n",
    "$$\n",
    "where $s_t = \\nabla_x \\log p_t(x)$ is the score function of $p_t$.\n",
    "\n",
    "**In linear interpolation** (that is $F[p_0, p_1, t] = (1-t)p_0 + tp_1$), we have\n",
    "$$\n",
    "\\frac{d}{dt} D_F(p_0 || p_t)  = 2~\\mathbb E_{p_0} \\Big[ -(1-t) s_0^2 + t s_1^2 + (1-2t) s_0 \\cdot s_1 - \\nabla_x \\cdot s_0 + \\nabla_x \\cdot s_1\\Big]\n",
    "$$"
   ]
  },
  {
   "cell_type": "code",
   "execution_count": 6,
   "id": "5bdf0a4f",
   "metadata": {},
   "outputs": [],
   "source": [
    "import torch\n",
    "\n",
    "def divergence(func, x):\n",
    "    \"\"\"\n",
    "    Compute the divergence of `func` evaluated at `x`.\n",
    "    \n",
    "    Args:\n",
    "        func: function from (batch_size, 2) → (batch_size, 2)\n",
    "        x: torch.Tensor of shape (batch_size, 2), requires_grad=True\n",
    "    \n",
    "    Returns:\n",
    "        divergence: torch.Tensor of shape (batch_size,)\n",
    "    \"\"\"\n",
    "    assert x.requires_grad, \"Input x must have requires_grad=True\"\n",
    "\n",
    "    y = func(x)  # (batch_size, 2)\n",
    "    div = torch.zeros(x.shape[0], device=x.device)\n",
    "\n",
    "    for i in range(2):  # Loop over x and y dimensions\n",
    "        grad_outputs = torch.zeros_like(y)\n",
    "        grad_outputs[:, i] = 1.0  # Select i-th component\n",
    "        grad = torch.autograd.grad(\n",
    "            outputs=y,\n",
    "            inputs=x,\n",
    "            grad_outputs=grad_outputs,\n",
    "            create_graph=True,\n",
    "            retain_graph=True,\n",
    "            only_inputs=True,\n",
    "        )[0]  # (batch_size, 2)\n",
    "        div += grad[:, i]  # accumulate ∂f_i/∂x_i\n",
    "    \n",
    "    return div  # (batch_size,)\n",
    "\n",
    "\n",
    "from inference.distribution import Sampleable, Density\n",
    "def rateofchange(t, \n",
    "                 density0: Density,\n",
    "                 density1: Density, \n",
    "                 num_samples: int = 1000) -> float:\n",
    "    samples = density0.sample(num_samples=num_samples)\n",
    "    score0 = density0.score(samples)\n",
    "    score1 = density1.score(samples)\n",
    "\n",
    "    # Terms\n",
    "    term1 = -1 * (1-t) * torch.einsum('bi, bi -> b', score0, score0) # (num_samples,)\n",
    "    term2 = t * torch.einsum('bi, bi -> b', score1, score1) #(num_samples,)\n",
    "    term3 = (1 - 2*t) * torch.einsum('bi, bi -> b', score0, score1)  # (num_samples,)\n",
    "\n",
    "    samples.requires_grad_(True)\n",
    "    term4 = -1 * divergence(density0.score, samples)\n",
    "    term5 = divergence(density1.score, samples)\n",
    "\n",
    "    # Average terms\n",
    "    term1 = torch.mean(term1)\n",
    "    term2 = torch.mean(term2)\n",
    "    term3 = torch.mean(term3)\n",
    "    term4 = torch.mean(term4)\n",
    "    term5 = torch.mean(term5)\n",
    "\n",
    "    # Result\n",
    "    return 2 * (term1 + term2 + term3 + term4 + term5)"
   ]
  },
  {
   "cell_type": "markdown",
   "id": "59d53c55",
   "metadata": {},
   "source": [
    "## Unit Gaussian -> Gaussian Mixture"
   ]
  },
  {
   "cell_type": "code",
   "execution_count": 7,
   "id": "7455d87c",
   "metadata": {},
   "outputs": [
    {
     "name": "stderr",
     "output_type": "stream",
     "text": [
      "100%|██████████| 50/50 [00:01<00:00, 25.33it/s]\n"
     ]
    },
    {
     "data": {
      "image/png": "[encoded data removed]",
      "text/plain": [
       "<Figure size 720x360 with 1 Axes>"
      ]
     },
     "metadata": {
      "needs_background": "light"
     },
     "output_type": "display_data"
    }
   ],
   "source": [
    "nmodes = 5\n",
    "std = 1.0\n",
    "scale = 20.0\n",
    "seed = 1\n",
    "\n",
    "density0 = Gaussian(mean=torch.zeros(2), cov=torch.eye(2))\n",
    "density1 = GaussianMixture.random_2D(nmodes=nmodes, \n",
    "                                     std=std, \n",
    "                                     scale=scale, \n",
    "                                     seed=seed)\n",
    "dist_interpolated = LinearInterpolatedDensity(density0=density0, density1=density1) # Interpolated density\n",
    "\n",
    "times = torch.linspace(0, 1, 50)\n",
    "rates = [rateofchange(t, density0, density1, num_samples=5000).detach().numpy() for t in tqdm(times)]\n",
    "\n",
    "\n",
    "fig = plt.figure(figsize=(10, 5))\n",
    "\n",
    "plt.plot(times, rates)\n",
    "\n",
    "plt.xlabel('Time (t)')\n",
    "plt.ylabel(r'$\\frac{d}{dt}D_F(p_0, p_t)$')\n",
    "plt.title('Rate of change of the Fisher divergence (Unit Gaussian to GMM)')\n",
    "plt.show()"
   ]
  },
  {
   "cell_type": "markdown",
   "id": "9a505469",
   "metadata": {},
   "source": [
    "# Unit Gaussian to Rosenbrock"
   ]
  },
  {
   "cell_type": "code",
   "execution_count": 8,
   "id": "740422a4",
   "metadata": {},
   "outputs": [
    {
     "name": "stderr",
     "output_type": "stream",
     "text": [
      "100%|██████████| 50/50 [00:00<00:00, 57.64it/s]\n"
     ]
    },
    {
     "data": {
      "text/plain": [
       "Text(0.5, 1.0, 'Rate of change of the Fisher divergence (Unit Gaussian to Rosenbrock)')"
      ]
     },
     "execution_count": 8,
     "metadata": {},
     "output_type": "execute_result"
    },
    {
     "data": {
      "image/png": "[encoded data removed]",
      "text/plain": [
       "<Figure size 720x360 with 1 Axes>"
      ]
     },
     "metadata": {
      "needs_background": "light"
     },
     "output_type": "display_data"
    }
   ],
   "source": [
    "nmodes = 5\n",
    "std = 1.0\n",
    "scale = 20.0\n",
    "seed = 1\n",
    "\n",
    "density0 = Gaussian(mean=torch.zeros(2), cov=torch.eye(2))\n",
    "density1 = Rosenbrock2D()\n",
    "dist_interpolated = LinearInterpolatedDensity(density0=density0, density1=density1) # Interpolated density\n",
    "\n",
    "times = torch.linspace(0, 1, 50)\n",
    "rates = [rateofchange(t, density0, density1, num_samples=10000).detach().numpy() for t in tqdm(times)]\n",
    "\n",
    "\n",
    "fig = plt.figure(figsize=(10, 5))\n",
    "\n",
    "plt.plot(times, rates)\n",
    "\n",
    "plt.xlabel('Time (t)')\n",
    "plt.ylabel(r'$\\frac{d}{dt}D_F(p_0, p_t)$')\n",
    "plt.title('Rate of change of the Fisher divergence (Unit Gaussian to Rosenbrock)')"
   ]
  },
  {
   "cell_type": "markdown",
   "id": "0bd31472",
   "metadata": {},
   "source": [
    "I originally thought this result was due to numerical error (look at the scale of the y-axis), but if you do the calculation in Mathematica, you get the same result... Seems like the Fisher divergence doesn't capture the change ideally..."
   ]
  },
  {
   "cell_type": "markdown",
   "id": "2d3b79c8",
   "metadata": {},
   "source": [
    "# Experiment 2: Rate of Change measured Empirically\n",
    "\n",
    "One can construct more empirical measures of rate of change of the score. For example consider this measure\n",
    "$$\n",
    "E_{p_s}\\left[ \\left(\\frac{ds_t}{dt}\\right)^2 \\right]\n",
    "$$\n",
    "where samples $x^{(s)} \\sim p_s$ using our Langevin Dyanamics simulator"
   ]
  },
  {
   "cell_type": "code",
   "execution_count": null,
   "id": "341f90af",
   "metadata": {},
   "outputs": [],
   "source": [
    "from functorch import jacrev\n",
    "from inference.distribution import Density\n",
    "\n",
    "def measure(t: torch.Tensor,\n",
    "            samples: torch.Tensor,\n",
    "            interpolated_density: InterpolatedDensity) -> float:\n",
    "    '''\n",
    "    Args:\n",
    "        t (torch.Tensor): Time `t` of interpolation. Single value torch tensor, w/ required_grad=True\n",
    "        samples (torch.Tensor): shape (num_samples, dim)\n",
    "        interpolated_density (InterpolatedDensity): Interpolation method.\n",
    "    '''\n",
    "    \n",
    "    def score_wrapper(t):\n",
    "        return interpolated_density.score(samples, alpha=t) # (num_samples, dim)\n",
    "\n",
    "    ds_dt = jacrev(score_wrapper)(t)  # shape: (batch_size, dim)\n",
    "\n",
    "    dotprod = torch.einsum('bi, bi -> b', ds_dt, ds_dt)\n",
    "\n",
    "    return torch.mean(dotprod)"
   ]
  },
  {
   "cell_type": "code",
   "execution_count": null,
   "id": "07d88d81",
   "metadata": {},
   "outputs": [],
   "source": [
    "def run(dist: InterpolatedDensity, \n",
    "        x: torch.Tensor, \n",
    "        ts: torch.Tensor,\n",
    "        noise_scheduler: inference.scheduler.Scheduler,\n",
    "        interpolant_steps: torch.Tensor,) -> torch.Tensor:    \n",
    "    '''\n",
    "    Runs Annealed Importance Sampling w/ Unadjusted Langevin, interpolating between two distributions.\n",
    "    Saves intermediate steps (after interpolating step).\n",
    "\n",
    "    Args:\n",
    "        - x: Initial positions of samples. Shape (batch_size, dim)\n",
    "        - ts: Time steps for LangevinDynamics. Shape (times,)\n",
    "        - noise_scheduler: \n",
    "        - interpolant_steps: Steps with values between [0,1]. Shape (interpolant_size, )\n",
    "\n",
    "    Returns\n",
    "        - Shape (batch_size, interpolant_size, dim)\n",
    "    '''\n",
    "    # Run Simulation\n",
    "    xs = [x.clone()] \n",
    "    rateofchanges = [0.0, ]\n",
    "    for step_pct in tqdm(interpolant_steps):\n",
    "        # Langevin Dynamics\n",
    "        score = lambda x, _: dist.score(x, alpha=step_pct)\n",
    "        sde = LangevinDynamics(score=score, \n",
    "                               noise_scheduler=noise_scheduler)\n",
    "        simulator = EulerMaruyamaSimulator(sde=sde)\n",
    "        x = simulator.simulate(x=x, ts=ts) # shape (batch_size, dim)\n",
    "        \n",
    "        # Calculate rate of change of score\n",
    "        change = measure(t=step_pct, samples=x, interpolated_density=dist)\n",
    "\n",
    "        # Record results\n",
    "        xs.append(x.clone())\n",
    "        rateofchanges.append(change)\n",
    "\n",
    "    return (torch.stack(xs, dim=1), # Shape (batch_size, interpolant_steps, dim)\n",
    "            torch.tensor(rateofchanges) # (interpolant_steps)\n",
    "            )\n",
    "\n",
    "def plot_interpolated(times , samples,)"
   ]
  },
  {
   "cell_type": "code",
   "execution_count": 41,
   "id": "8917fdfd",
   "metadata": {},
   "outputs": [
    {
     "name": "stderr",
     "output_type": "stream",
     "text": [
      "  0%|          | 0/13 [00:00<?, ?it/s]/Users/clarkmiyamoto/opt/anaconda3/lib/python3.9/site-packages/torch/_functorch/deprecated.py:80: UserWarning: We've integrated functorch into PyTorch. As the final step of the integration, functorch.jacrev is deprecated as of PyTorch 2.0 and will be deleted in a future version of PyTorch >= 2.3. Please use torch.func.jacrev instead; see the PyTorch 2.0 release notes and/or the torch.func migration guide for more details https://pytorch.org/docs/master/func.migrating.html\n",
      "  warn_deprecated('jacrev')\n",
      "100%|██████████| 13/13 [00:57<00:00,  4.45s/it]\n"
     ]
    },
    {
     "data": {
      "image/png": "[encoded data removed]",
      "text/plain": [
       "<Figure size 720x360 with 1 Axes>"
      ]
     },
     "metadata": {
      "needs_background": "light"
     },
     "output_type": "display_data"
    }
   ],
   "source": [
    "nmodes = 5\n",
    "std = 1.0\n",
    "scale = 20.0\n",
    "seed = 1\n",
    "\n",
    "density0 = Gaussian(mean=torch.zeros(2), cov=torch.eye(2))\n",
    "density1 = GaussianMixture.random_2D(nmodes=nmodes, \n",
    "                                     std=std, \n",
    "                                     scale=scale, \n",
    "                                     seed=seed)\n",
    "dist_interpolated = LinearInterpolatedDensity(density0=density0, density1=density1) # Interpolated density\n",
    "\n",
    "####\n",
    "x0 = density0.sample(1000)\n",
    "num_steps, step_size = 1000, 0.01\n",
    "ts = torch.arange(0, num_steps * step_size, step_size)\n",
    "noise_scheduler = inference.scheduler.Linear(3.0, 0.5)\n",
    "interpolant_steps = torch.tensor([0.25, 0.35, 0.5, 0.6, 0.7, 0.75, 0.8, 0.85, 0.9, 0.925, 0.955, 0.975, 1.0])\n",
    "\n",
    "### Runs imulation\n",
    "samples, rateofchange = run(dist=dist_interpolated,\n",
    "                            x=x0,\n",
    "                            ts=ts,\n",
    "                            noise_scheduler=noise_scheduler,\n",
    "                            interpolant_steps=interpolant_steps)\n",
    "\n",
    "fig = plt.figure(figsize=(10, 5))\n",
    "\n",
    "plt.plot(interpolant_steps.cpu().detach().numpy(), rateofchange.cpu().detach().numpy()[1:])\n",
    "plt.xlabel('Time (t)')\n",
    "plt.ylabel(r'$E \\left[ \\left (\\frac{ds_t}{dt} \\right ) \\right ]$')\n",
    "plt.title('Rate of change (Gaussian -> GMM)')\n",
    "plt.show()"
   ]
  },
  {
   "cell_type": "code",
   "execution_count": 47,
   "id": "120e21db",
   "metadata": {},
   "outputs": [
    {
     "name": "stderr",
     "output_type": "stream",
     "text": [
      "  0%|          | 0/9 [00:00<?, ?it/s]/Users/clarkmiyamoto/opt/anaconda3/lib/python3.9/site-packages/torch/_functorch/deprecated.py:80: UserWarning: We've integrated functorch into PyTorch. As the final step of the integration, functorch.jacrev is deprecated as of PyTorch 2.0 and will be deleted in a future version of PyTorch >= 2.3. Please use torch.func.jacrev instead; see the PyTorch 2.0 release notes and/or the torch.func migration guide for more details https://pytorch.org/docs/master/func.migrating.html\n",
      "  warn_deprecated('jacrev')\n",
      "100%|██████████| 9/9 [00:44<00:00,  4.91s/it]\n"
     ]
    },
    {
     "data": {
      "image/png": "[encoded data removed]",
      "text/plain": [
       "<Figure size 720x360 with 1 Axes>"
      ]
     },
     "metadata": {
      "needs_background": "light"
     },
     "output_type": "display_data"
    }
   ],
   "source": [
    "### Setup\n",
    "# Distribution Setup\n",
    "seed = 1\n",
    "\n",
    "density0 = Gaussian(mean=torch.zeros(2), cov=torch.eye(2))\n",
    "density1 = Rosenbrock2D(a=100,b=1.0) # target distribution\n",
    "\n",
    "# Simulator setup\n",
    "x0 = density0.sample(num_samples=1000)\n",
    "num_steps, step_size = 1000, 0.001\n",
    "ts = torch.arange(0, num_steps * step_size, step_size)\n",
    "noise_scheduler = inference.scheduler.Linear(3.0, 0.5)\n",
    "interpolant_steps = torch.tensor([0.0, 0.01, 0.03, 0.06, 0.1, 0.2, 0.4, 0.7, 1.0])\n",
    "\n",
    "### Code\n",
    "# Setup up\n",
    "dist_interpolated = LinearInterpolatedDensity(density0=density0, density1=density1) # Interpolated density\n",
    "\n",
    "### Runs imulation\n",
    "samples, rateofchange = run(dist=dist_interpolated,\n",
    "                            x=x0,\n",
    "                            ts=ts,\n",
    "                            noise_scheduler=noise_scheduler,\n",
    "                            interpolant_steps=interpolant_steps)\n",
    "\n",
    "fig = plt.figure(figsize=(10, 5))\n",
    "\n",
    "plt.plot(interpolant_steps.cpu().detach().numpy(), rateofchange.cpu().detach().numpy()[1:])\n",
    "\n",
    "plt.xlabel('Time (t)')\n",
    "plt.ylabel(r'$E \\left[ \\left (\\frac{ds_t}{dt} \\right ) \\right ]$')\n",
    "plt.yscale('log')\n",
    "plt.title('Rate of change (Gaussian -> Rosenbrock)')\n",
    "plt.show()"
   ]
  },
  {
   "cell_type": "markdown",
   "id": "e542049b",
   "metadata": {},
   "source": [
    "# Unit 2: Determining Update Step"
   ]
  },
  {
   "cell_type": "code",
   "execution_count": null,
   "id": "dce70519",
   "metadata": {},
   "outputs": [],
   "source": []
  }
 ],
 "metadata": {
  "kernelspec": {
   "display_name": "base",
   "language": "python",
   "name": "python3"
  },
  "language_info": {
   "codemirror_mode": {
    "name": "ipython",
    "version": 3
   },
   "file_extension": ".py",
   "mimetype": "text/x-python",
   "name": "python",
   "nbconvert_exporter": "python",
   "pygments_lexer": "ipython3",
   "version": "3.9.7"
  }
 },
 "nbformat": 4,
 "nbformat_minor": 5
}
