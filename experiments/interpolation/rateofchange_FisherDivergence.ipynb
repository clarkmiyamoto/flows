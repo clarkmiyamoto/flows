{
 "cells": [
  {
   "cell_type": "code",
   "execution_count": 2,
   "id": "223e5644",
   "metadata": {},
   "outputs": [],
   "source": [
    "%load_ext autoreload\n",
    "%autoreload 2"
   ]
  },
  {
   "cell_type": "code",
   "execution_count": 3,
   "id": "9f6ae918",
   "metadata": {},
   "outputs": [],
   "source": [
    "import os\n",
    "import sys\n",
    "parent_dir = os.path.abspath(os.path.join(os.getcwd(), os.pardir, os.pardir))\n",
    "sys.path.append(parent_dir)\n",
    "\n",
    "# Regular Imports\n",
    "import torch\n",
    "\n",
    "device = torch.device(\"cuda\" if torch.cuda.is_available() else \"cpu\")\n",
    "\n",
    "import matplotlib.pyplot as plt\n",
    "from tqdm import tqdm\n",
    "\n",
    "import inference.scheduler\n",
    "from inference.distribution import Gaussian, GaussianMixture, Rosenbrock2D, InterpolatedDensity\n",
    "from inference.sde import EulerMaruyamaSimulator, LangevinDynamics\n",
    "import utils.vis2d.visualization"
   ]
  },
  {
   "cell_type": "code",
   "execution_count": 5,
   "id": "98164284",
   "metadata": {},
   "outputs": [],
   "source": [
    "class LinearInterpolatedDensity(InterpolatedDensity):\n",
    "\n",
    "    def __init__(self, density0, density1):\n",
    "        super().__init__(density0, density1)\n",
    "    \n",
    "    def interpolate(self, log_density0: torch.Tensor, log_density1: torch.Tensor, alpha: float) -> torch.Tensor:\n",
    "        \"\"\"\n",
    "        Constructs interpolation between density0 and density1\n",
    "        Args:\n",
    "            - log_density0 (torch.Tensor): Log density of density0 evaluated at x\n",
    "            - log_density1 (torch.Tensor): Log density of density1 evaluated at x\n",
    "            - alpha (float): Interpolation parameter (0 <= alpha <= 1)\n",
    "        \"\"\"\n",
    "        return log_density0 + alpha * (log_density1 - log_density0)"
   ]
  },
  {
   "cell_type": "markdown",
   "id": "86dc55c7",
   "metadata": {},
   "source": [
    "# Rate of Change of Fisher Divergence\n",
    "\n",
    "Consider an interpolated density $p_t = F[p_0, p_1, t]$ which interpolates between an initial (easy) density $p_0$ and a final (hard) density $p_1$.\n",
    "\n",
    "We can figure out how fast $p_t$ is moving away from $p_0$ by computing the rate of change of the Fisher divergence\n",
    "\n",
    "$$\n",
    "\\frac{d}{dt} D_F(p_0 || p_t)  = 2~\\mathbb E_{p_0} \\left[s_t \\cdot \\frac{ds_t}{dt} + \\nabla_x \\cdot \\frac{ds_t}{dt} \\right]\n",
    "$$\n",
    "where $s_t = \\nabla_x \\log p_t(x)$ is the score function of $p_t$.\n",
    "\n",
    "In linear interpolation (that is $F[p_0, p_1, t] = (1-t)p_0 + tp_1$), we have\n",
    "$$\n",
    "\\frac{d}{dt} D_F(p_0 || p_t)  = 2~\\mathbb E_{p_0} \\Big[ -(1-t) s_0^2 + t s_1^2 + (1-2t) s_0 \\cdot s_1 - \\nabla_x \\cdot s_0 + \\nabla_x \\cdot s_1\\Big]\n",
    "$$"
   ]
  },
  {
   "cell_type": "code",
   "execution_count": null,
   "id": "5bdf0a4f",
   "metadata": {},
   "outputs": [],
   "source": [
    "import torch\n",
    "\n",
    "def divergence(func, x):\n",
    "    \"\"\"\n",
    "    Compute the divergence of `func` evaluated at `x`.\n",
    "    \n",
    "    Args:\n",
    "        func: function from (batch_size, 2) → (batch_size, 2)\n",
    "        x: torch.Tensor of shape (batch_size, 2), requires_grad=True\n",
    "    \n",
    "    Returns:\n",
    "        divergence: torch.Tensor of shape (batch_size,)\n",
    "    \"\"\"\n",
    "    assert x.requires_grad, \"Input x must have requires_grad=True\"\n",
    "\n",
    "    y = func(x)  # (batch_size, 2)\n",
    "    div = torch.zeros(x.shape[0], device=x.device)\n",
    "\n",
    "    for i in range(2):  # Loop over x and y dimensions\n",
    "        grad_outputs = torch.zeros_like(y)\n",
    "        grad_outputs[:, i] = 1.0  # Select i-th component\n",
    "        grad = torch.autograd.grad(\n",
    "            outputs=y,\n",
    "            inputs=x,\n",
    "            grad_outputs=grad_outputs,\n",
    "            create_graph=True,\n",
    "            retain_graph=True,\n",
    "            only_inputs=True,\n",
    "        )[0]  # (batch_size, 2)\n",
    "        div += grad[:, i]  # accumulate ∂f_i/∂x_i\n",
    "    \n",
    "    return div  # (batch_size,)\n",
    "\n",
    "\n",
    "from inference.distribution import Sampleable, Density\n",
    "def rateofchange(t, \n",
    "                 density0: Density,\n",
    "                 density1: Density, \n",
    "                 num_samples: int = 1000) -> float:\n",
    "    samples = density0.sample(num_samples=num_samples)\n",
    "    score0 = density0.score(samples)\n",
    "    score1 = density1.score(samples)\n",
    "\n",
    "    # Terms\n",
    "    term1 = -1 * (1-t) * torch.einsum('bi, bi -> b', score0, score0) # (num_samples,)\n",
    "    term2 = t * torch.einsum('bi, bi -> b', score1, score1) #(num_samples,)\n",
    "    term3 = (1 - 2*t) * torch.einsum('bi, bi -> b', score0, score1)  # (num_samples,)\n",
    "\n",
    "    samples.requires_grad_(True)\n",
    "    term4 = -1 * divergence(density0.score, samples)\n",
    "    term5 = divergence(density1.score, samples)\n",
    "\n",
    "    # Average terms\n",
    "    term1 = torch.mean(term1)\n",
    "    term2 = torch.mean(term2)\n",
    "    term3 = torch.mean(term3)\n",
    "    term4 = torch.mean(term4)\n",
    "    term5 = torch.mean(term5)\n",
    "\n",
    "    # Result\n",
    "    return 2 * (term1 + term2 + term3 + term4 + term5)"
   ]
  },
  {
   "cell_type": "markdown",
   "id": "59d53c55",
   "metadata": {},
   "source": [
    "## Unit Gaussian -> Gaussian Mixture"
   ]
  },
  {
   "cell_type": "code",
   "execution_count": 65,
   "id": "7455d87c",
   "metadata": {},
   "outputs": [
    {
     "name": "stderr",
     "output_type": "stream",
     "text": [
      "100%|██████████| 50/50 [00:02<00:00, 18.56it/s]\n"
     ]
    },
    {
     "data": {
      "text/plain": [
       "Text(0.5, 1.0, 'Rate of change of the Fisher divergence w.r.t Interpolated Density')"
      ]
     },
     "execution_count": 65,
     "metadata": {},
     "output_type": "execute_result"
    },
    {
     "data": {
      "image/png": "[encoded data removed]",
      "text/plain": [
       "<Figure size 720x360 with 1 Axes>"
      ]
     },
     "metadata": {
      "needs_background": "light"
     },
     "output_type": "display_data"
    }
   ],
   "source": [
    "nmodes = 5\n",
    "std = 1.0\n",
    "scale = 20.0\n",
    "seed = 1\n",
    "\n",
    "density0 = Gaussian(mean=torch.zeros(2), cov=torch.eye(2))\n",
    "density1 = GaussianMixture.random_2D(nmodes=nmodes, \n",
    "                                     std=std, \n",
    "                                     scale=scale, \n",
    "                                     seed=seed)\n",
    "dist_interpolated = LinearInterpolatedDensity(density0=density0, density1=density1) # Interpolated density\n",
    "\n",
    "times = torch.linspace(0, 1, 50)\n",
    "rates = [rateofchange(t, density0, density1, num_samples=5000).detach().numpy() for t in tqdm(times)]\n",
    "\n",
    "\n",
    "fig = plt.figure(figsize=(10, 5))\n",
    "\n",
    "plt.plot(times, rates)\n",
    "\n",
    "plt.xlabel('Time (t)')\n",
    "plt.ylabel(r'$\\frac{d}{dt}D_F(p_0, p_t)$')\n",
    "plt.title('Rate of change of the Fisher divergence w.r.t Interpolated Density')"
   ]
  },
  {
   "cell_type": "markdown",
   "id": "9a505469",
   "metadata": {},
   "source": [
    "# Unit Gaussian to Rosenbrock"
   ]
  },
  {
   "cell_type": "code",
   "execution_count": 64,
   "id": "740422a4",
   "metadata": {},
   "outputs": [
    {
     "name": "stderr",
     "output_type": "stream",
     "text": [
      "100%|██████████| 50/50 [00:01<00:00, 33.02it/s]\n"
     ]
    },
    {
     "data": {
      "text/plain": [
       "Text(0.5, 1.0, 'Rate of change of the Fisher divergence w.r.t Interpolated Density')"
      ]
     },
     "execution_count": 64,
     "metadata": {},
     "output_type": "execute_result"
    },
    {
     "data": {
      "image/png": "[encoded data removed]",
      "text/plain": [
       "<Figure size 720x360 with 1 Axes>"
      ]
     },
     "metadata": {
      "needs_background": "light"
     },
     "output_type": "display_data"
    }
   ],
   "source": [
    "nmodes = 5\n",
    "std = 1.0\n",
    "scale = 20.0\n",
    "seed = 1\n",
    "\n",
    "density0 = Gaussian(mean=torch.zeros(2), cov=torch.eye(2))\n",
    "density1 = Rosenbrock2D()\n",
    "dist_interpolated = LinearInterpolatedDensity(density0=density0, density1=density1) # Interpolated density\n",
    "\n",
    "times = torch.linspace(0, 1, 50)\n",
    "rates = [rateofchange(t, density0, density1, num_samples=10000).detach().numpy() for t in tqdm(times)]\n",
    "\n",
    "\n",
    "fig = plt.figure(figsize=(10, 5))\n",
    "\n",
    "plt.plot(times, rates)\n",
    "\n",
    "plt.xlabel('Time (t)')\n",
    "plt.ylabel(r'$\\frac{d}{dt}D_F(p_0, p_t)$')\n",
    "plt.title('Rate of change of the Fisher divergence w.r.t Interpolated Density')"
   ]
  },
  {
   "cell_type": "markdown",
   "id": "0bd31472",
   "metadata": {},
   "source": [
    "I originally thought this result was due to numerical error (look at the scale of the y-axis), but if you do the calculation in Mathematica, you get the same result... Seems like the Fisher divergence doesn't capture the change ideally..."
   ]
  },
  {
   "cell_type": "code",
   "execution_count": null,
   "id": "341f90af",
   "metadata": {},
   "outputs": [],
   "source": []
  }
 ],
 "metadata": {
  "kernelspec": {
   "display_name": "base",
   "language": "python",
   "name": "python3"
  },
  "language_info": {
   "codemirror_mode": {
    "name": "ipython",
    "version": 3
   },
   "file_extension": ".py",
   "mimetype": "text/x-python",
   "name": "python",
   "nbconvert_exporter": "python",
   "pygments_lexer": "ipython3",
   "version": "3.9.7"
  }
 },
 "nbformat": 4,
 "nbformat_minor": 5
}
